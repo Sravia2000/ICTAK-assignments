{
 "cells": [
  {
   "cell_type": "markdown",
   "id": "86851287",
   "metadata": {},
   "source": [
    "#                                   Case Study on Regression\n",
    "\n",
    "#### The given dataset contains price of second-hand Hyundai grand i10 car with respect to year of making. Find the best linear relationship between year and price. Can you predict the possible price of a 2022 model second-hand grand i10? Please learn about lasso regression and create a model along with linear regression. Find out which one is performing better."
   ]
  },
  {
   "cell_type": "code",
   "execution_count": 1,
   "id": "65ff833b",
   "metadata": {},
   "outputs": [],
   "source": [
    "# Importing libraries\n",
    "\n",
    "import numpy as np\n",
    "import pandas as pd\n",
    "import matplotlib.pyplot as plt\n",
    "import seaborn as sns"
   ]
  },
  {
   "cell_type": "code",
   "execution_count": 2,
   "id": "ca07d565",
   "metadata": {},
   "outputs": [
    {
     "data": {
      "text/html": [
       "<div>\n",
       "<style scoped>\n",
       "    .dataframe tbody tr th:only-of-type {\n",
       "        vertical-align: middle;\n",
       "    }\n",
       "\n",
       "    .dataframe tbody tr th {\n",
       "        vertical-align: top;\n",
       "    }\n",
       "\n",
       "    .dataframe thead th {\n",
       "        text-align: right;\n",
       "    }\n",
       "</style>\n",
       "<table border=\"1\" class=\"dataframe\">\n",
       "  <thead>\n",
       "    <tr style=\"text-align: right;\">\n",
       "      <th></th>\n",
       "      <th>Year</th>\n",
       "      <th>Price</th>\n",
       "    </tr>\n",
       "  </thead>\n",
       "  <tbody>\n",
       "    <tr>\n",
       "      <th>0</th>\n",
       "      <td>2018</td>\n",
       "      <td>465000</td>\n",
       "    </tr>\n",
       "    <tr>\n",
       "      <th>1</th>\n",
       "      <td>2019</td>\n",
       "      <td>755000</td>\n",
       "    </tr>\n",
       "    <tr>\n",
       "      <th>2</th>\n",
       "      <td>2019</td>\n",
       "      <td>700000</td>\n",
       "    </tr>\n",
       "    <tr>\n",
       "      <th>3</th>\n",
       "      <td>2018</td>\n",
       "      <td>465000</td>\n",
       "    </tr>\n",
       "    <tr>\n",
       "      <th>4</th>\n",
       "      <td>2018</td>\n",
       "      <td>465000</td>\n",
       "    </tr>\n",
       "  </tbody>\n",
       "</table>\n",
       "</div>"
      ],
      "text/plain": [
       "   Year   Price\n",
       "0  2018  465000\n",
       "1  2019  755000\n",
       "2  2019  700000\n",
       "3  2018  465000\n",
       "4  2018  465000"
      ]
     },
     "execution_count": 2,
     "metadata": {},
     "output_type": "execute_result"
    }
   ],
   "source": [
    "# Loading the dataset\n",
    "\n",
    "data = pd.read_csv(r\"C:\\Users\\sravi\\Downloads\\ICTAK\\supervised learning\\car_age_price.csv\")\n",
    "data.head()"
   ]
  },
  {
   "cell_type": "code",
   "execution_count": 3,
   "id": "4f270a36",
   "metadata": {},
   "outputs": [
    {
     "name": "stdout",
     "output_type": "stream",
     "text": [
      "<class 'pandas.core.frame.DataFrame'>\n",
      "RangeIndex: 112 entries, 0 to 111\n",
      "Data columns (total 2 columns):\n",
      " #   Column  Non-Null Count  Dtype\n",
      "---  ------  --------------  -----\n",
      " 0   Year    112 non-null    int64\n",
      " 1   Price   112 non-null    int64\n",
      "dtypes: int64(2)\n",
      "memory usage: 1.9 KB\n"
     ]
    }
   ],
   "source": [
    "# Basic information about data\n",
    "\n",
    "data.info()"
   ]
  },
  {
   "cell_type": "code",
   "execution_count": 4,
   "id": "2e699d48",
   "metadata": {},
   "outputs": [
    {
     "data": {
      "text/html": [
       "<div>\n",
       "<style scoped>\n",
       "    .dataframe tbody tr th:only-of-type {\n",
       "        vertical-align: middle;\n",
       "    }\n",
       "\n",
       "    .dataframe tbody tr th {\n",
       "        vertical-align: top;\n",
       "    }\n",
       "\n",
       "    .dataframe thead th {\n",
       "        text-align: right;\n",
       "    }\n",
       "</style>\n",
       "<table border=\"1\" class=\"dataframe\">\n",
       "  <thead>\n",
       "    <tr style=\"text-align: right;\">\n",
       "      <th></th>\n",
       "      <th>Year</th>\n",
       "      <th>Price</th>\n",
       "    </tr>\n",
       "  </thead>\n",
       "  <tbody>\n",
       "    <tr>\n",
       "      <th>count</th>\n",
       "      <td>112.000000</td>\n",
       "      <td>112.000000</td>\n",
       "    </tr>\n",
       "    <tr>\n",
       "      <th>mean</th>\n",
       "      <td>2016.669643</td>\n",
       "      <td>483866.044643</td>\n",
       "    </tr>\n",
       "    <tr>\n",
       "      <th>std</th>\n",
       "      <td>1.629616</td>\n",
       "      <td>91217.450533</td>\n",
       "    </tr>\n",
       "    <tr>\n",
       "      <th>min</th>\n",
       "      <td>2013.000000</td>\n",
       "      <td>300000.000000</td>\n",
       "    </tr>\n",
       "    <tr>\n",
       "      <th>25%</th>\n",
       "      <td>2015.000000</td>\n",
       "      <td>423750.000000</td>\n",
       "    </tr>\n",
       "    <tr>\n",
       "      <th>50%</th>\n",
       "      <td>2017.000000</td>\n",
       "      <td>500000.000000</td>\n",
       "    </tr>\n",
       "    <tr>\n",
       "      <th>75%</th>\n",
       "      <td>2017.000000</td>\n",
       "      <td>550000.000000</td>\n",
       "    </tr>\n",
       "    <tr>\n",
       "      <th>max</th>\n",
       "      <td>2020.000000</td>\n",
       "      <td>755000.000000</td>\n",
       "    </tr>\n",
       "  </tbody>\n",
       "</table>\n",
       "</div>"
      ],
      "text/plain": [
       "              Year          Price\n",
       "count   112.000000     112.000000\n",
       "mean   2016.669643  483866.044643\n",
       "std       1.629616   91217.450533\n",
       "min    2013.000000  300000.000000\n",
       "25%    2015.000000  423750.000000\n",
       "50%    2017.000000  500000.000000\n",
       "75%    2017.000000  550000.000000\n",
       "max    2020.000000  755000.000000"
      ]
     },
     "execution_count": 4,
     "metadata": {},
     "output_type": "execute_result"
    }
   ],
   "source": [
    "# Statistical information about data\n",
    "\n",
    "data.describe()"
   ]
  },
  {
   "cell_type": "code",
   "execution_count": 5,
   "id": "97826bfc",
   "metadata": {},
   "outputs": [
    {
     "data": {
      "text/plain": [
       "Year     0\n",
       "Price    0\n",
       "dtype: int64"
      ]
     },
     "execution_count": 5,
     "metadata": {},
     "output_type": "execute_result"
    }
   ],
   "source": [
    "# To find data have any null values\n",
    "\n",
    "data.isna().sum()"
   ]
  },
  {
   "cell_type": "markdown",
   "id": "d62b3604",
   "metadata": {},
   "source": [
    "#### There is no null values in the data."
   ]
  },
  {
   "cell_type": "code",
   "execution_count": 6,
   "id": "1836bced",
   "metadata": {},
   "outputs": [
    {
     "data": {
      "text/plain": [
       "<Axes: >"
      ]
     },
     "execution_count": 6,
     "metadata": {},
     "output_type": "execute_result"
    },
    {
     "data": {
      "image/png": "[encoded data removed]",
      "text/plain": [
       "<Figure size 640x480 with 1 Axes>"
      ]
     },
     "metadata": {},
     "output_type": "display_data"
    }
   ],
   "source": [
    "# Checking is there any outlier in the data\n",
    "\n",
    "sns.boxplot(data[['Year','Price']])"
   ]
  },
  {
   "cell_type": "markdown",
   "id": "b5be57f4",
   "metadata": {},
   "source": [
    "#### Outlier is very less in this data."
   ]
  },
  {
   "cell_type": "code",
   "execution_count": 7,
   "id": "6b0c43bd",
   "metadata": {},
   "outputs": [
    {
     "data": {
      "text/plain": [
       "<Axes: >"
      ]
     },
     "execution_count": 7,
     "metadata": {},
     "output_type": "execute_result"
    },
    {
     "data": {
      "image/png": "[encoded data removed]",
      "text/plain": [
       "<Figure size 640x480 with 2 Axes>"
      ]
     },
     "metadata": {},
     "output_type": "display_data"
    }
   ],
   "source": [
    "# To find Correlation\n",
    "\n",
    "sns.heatmap(data.corr(),annot=True)"
   ]
  },
  {
   "cell_type": "markdown",
   "id": "02735a1d",
   "metadata": {},
   "source": [
    "#### Here there is only two variables. So we can't drop."
   ]
  },
  {
   "cell_type": "code",
   "execution_count": 8,
   "id": "9982eebd",
   "metadata": {},
   "outputs": [],
   "source": [
    "# Let train and test the data.\n",
    "\n",
    "y = data['Price']\n",
    "X = data.drop(['Price'],axis=True)\n",
    "\n",
    "from sklearn.model_selection import train_test_split\n",
    "X_train,X_test,y_train,y_test= train_test_split(X,y,random_state=42, test_size=.25)"
   ]
  },
  {
   "cell_type": "markdown",
   "id": "b3224025",
   "metadata": {},
   "source": [
    "## Linear Regression Model"
   ]
  },
  {
   "cell_type": "code",
   "execution_count": 9,
   "id": "2d7f43f6",
   "metadata": {},
   "outputs": [
    {
     "name": "stdout",
     "output_type": "stream",
     "text": [
      "Mean Squared Error is : 3878767151.073449\n",
      "R Squared error is : 0.4347961632108023\n"
     ]
    }
   ],
   "source": [
    "# To find the best linear relationship between year and price. \n",
    "\n",
    "from sklearn import linear_model\n",
    "lin_model = linear_model.LinearRegression()\n",
    "model = lin_model.fit(X_train,y_train)\n",
    "lin_predict = model.predict(X_test)\n",
    "\n",
    "from sklearn.metrics import mean_squared_error,r2_score\n",
    "print('Mean Squared Error is :',mean_squared_error(y_test,lin_predict))\n",
    "print('R Squared error is :',r2_score(y_test,lin_predict))"
   ]
  },
  {
   "cell_type": "markdown",
   "id": "c95f7426",
   "metadata": {},
   "source": [
    "## Lasso Regression Model"
   ]
  },
  {
   "cell_type": "code",
   "execution_count": 10,
   "id": "e8286505",
   "metadata": {},
   "outputs": [
    {
     "name": "stdout",
     "output_type": "stream",
     "text": [
      "Mean Squared Error is : 3878764025.5442586\n",
      "R Squared error is : 0.43479661865476726\n"
     ]
    }
   ],
   "source": [
    "# Lasso is a modification of linear regression, where the model is penalized for the sum of absolute values of the weights.\n",
    "\n",
    "from sklearn.linear_model import Lasso\n",
    "lasso = Lasso(alpha = 0.1)\n",
    "las_model = lasso.fit(X_train,y_train)\n",
    "las_predict = las_model.predict(X_test)\n",
    "\n",
    "from sklearn.metrics import mean_squared_error,r2_score\n",
    "print('Mean Squared Error is :',mean_squared_error(y_test,las_predict))\n",
    "print('R Squared error is :',r2_score(y_test,las_predict))"
   ]
  },
  {
   "cell_type": "markdown",
   "id": "afab6565",
   "metadata": {},
   "source": [
    "### By comparing both model. We can see that Lasso Regression Model is slightly better.\n",
    "* In the context of Mean Squared Error (MSE), a lower value indicates better performance. So, in our case, the model with an MSE of 3878764025.5442586 is better than the one with an MSE of 3878767151.073449.\n",
    "* In coefficient of determination (R-squared), a higher value indicates better performance. So, in our case, the model with an R-squared value of 0.43479661865476726 is better than the one with an R-squared value of 0.4347961632108023.\n",
    "* Therefore,  Lasso regression model performs slightly better in terms of minimizing prediction errors and explaining the variance in the test data."
   ]
  },
  {
   "cell_type": "markdown",
   "id": "defb9c71",
   "metadata": {},
   "source": [
    "## Predict price for 2022 model using both models"
   ]
  },
  {
   "cell_type": "code",
   "execution_count": 11,
   "id": "d7939831",
   "metadata": {},
   "outputs": [
    {
     "name": "stdout",
     "output_type": "stream",
     "text": [
      "Predicted price for 2022 model using Linear Regression: 740160.1193776578\n",
      "Predicted price for 2022 model using Lasso Regression: 740159.9031400234\n"
     ]
    },
    {
     "name": "stderr",
     "output_type": "stream",
     "text": [
      "C:\\Users\\sravi\\anaconda3\\Lib\\site-packages\\sklearn\\base.py:464: UserWarning: X does not have valid feature names, but LinearRegression was fitted with feature names\n",
      "  warnings.warn(\n",
      "C:\\Users\\sravi\\anaconda3\\Lib\\site-packages\\sklearn\\base.py:464: UserWarning: X does not have valid feature names, but Lasso was fitted with feature names\n",
      "  warnings.warn(\n"
     ]
    }
   ],
   "source": [
    "year_2022 = np.array([[2022]])\n",
    "\n",
    "linear_price_2022 = model.predict(year_2022)[0]\n",
    "lasso_price_2022 = las_model.predict(year_2022)[0]\n",
    "\n",
    "print('Predicted price for 2022 model using Linear Regression:', linear_price_2022)\n",
    "print('Predicted price for 2022 model using Lasso Regression:', lasso_price_2022)"
   ]
  },
  {
   "cell_type": "markdown",
   "id": "ce228c27",
   "metadata": {},
   "source": [
    "## In this case study, we created two models using linear regression and lasso regression and by comparing both model we understood that 'lasso regression' is slightly better compared to the other one. And last we predict the price for 2022 model second-hand grand i10 using both models. "
   ]
  }
 ],
 "metadata": {
  "kernelspec": {
   "display_name": "Python 3 (ipykernel)",
   "language": "python",
   "name": "python3"
  },
  "language_info": {
   "codemirror_mode": {
    "name": "ipython",
    "version": 3
   },
   "file_extension": ".py",
   "mimetype": "text/x-python",
   "name": "python",
   "nbconvert_exporter": "python",
   "pygments_lexer": "ipython3",
   "version": "3.11.5"
  }
 },
 "nbformat": 4,
 "nbformat_minor": 5
}
